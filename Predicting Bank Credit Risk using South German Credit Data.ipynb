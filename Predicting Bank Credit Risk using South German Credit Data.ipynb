{
 "cells": [
  {
   "cell_type": "code",
   "execution_count": 268,
   "id": "4021ee4b",
   "metadata": {},
   "outputs": [],
   "source": [
    "import numpy as np\n",
    "import pandas as pd\n",
    "import matplotlib.pyplot as plt\n",
    "import seaborn as sns"
   ]
  },
  {
   "cell_type": "code",
   "execution_count": 269,
   "id": "f4687191",
   "metadata": {
    "scrolled": true
   },
   "outputs": [
    {
     "data": {
      "text/html": [
       "<div>\n",
       "<style scoped>\n",
       "    .dataframe tbody tr th:only-of-type {\n",
       "        vertical-align: middle;\n",
       "    }\n",
       "\n",
       "    .dataframe tbody tr th {\n",
       "        vertical-align: top;\n",
       "    }\n",
       "\n",
       "    .dataframe thead th {\n",
       "        text-align: right;\n",
       "    }\n",
       "</style>\n",
       "<table border=\"1\" class=\"dataframe\">\n",
       "  <thead>\n",
       "    <tr style=\"text-align: right;\">\n",
       "      <th></th>\n",
       "      <th>status</th>\n",
       "      <th>duration</th>\n",
       "      <th>credit_history</th>\n",
       "      <th>purpose</th>\n",
       "      <th>amount</th>\n",
       "      <th>savings</th>\n",
       "      <th>employment_duration</th>\n",
       "      <th>installment_rate</th>\n",
       "      <th>personal_status_sex</th>\n",
       "      <th>other_debtors</th>\n",
       "      <th>...</th>\n",
       "      <th>property</th>\n",
       "      <th>age</th>\n",
       "      <th>other_installment_plans</th>\n",
       "      <th>housing</th>\n",
       "      <th>number_credits</th>\n",
       "      <th>job</th>\n",
       "      <th>people_liable</th>\n",
       "      <th>telephone</th>\n",
       "      <th>foreign_worker</th>\n",
       "      <th>credit_risk</th>\n",
       "    </tr>\n",
       "  </thead>\n",
       "  <tbody>\n",
       "    <tr>\n",
       "      <th>0</th>\n",
       "      <td>no checking account</td>\n",
       "      <td>18</td>\n",
       "      <td>all credits at this bank paid back duly</td>\n",
       "      <td>car (used)</td>\n",
       "      <td>1049</td>\n",
       "      <td>unknown/no savings account</td>\n",
       "      <td>&lt; 1 yr</td>\n",
       "      <td>&lt; 20</td>\n",
       "      <td>female : non-single or male : single</td>\n",
       "      <td>none</td>\n",
       "      <td>...</td>\n",
       "      <td>car or other</td>\n",
       "      <td>21</td>\n",
       "      <td>none</td>\n",
       "      <td>for free</td>\n",
       "      <td>1</td>\n",
       "      <td>skilled employee/official</td>\n",
       "      <td>0 to 2</td>\n",
       "      <td>no</td>\n",
       "      <td>no</td>\n",
       "      <td>good</td>\n",
       "    </tr>\n",
       "    <tr>\n",
       "      <th>1</th>\n",
       "      <td>no checking account</td>\n",
       "      <td>9</td>\n",
       "      <td>all credits at this bank paid back duly</td>\n",
       "      <td>others</td>\n",
       "      <td>2799</td>\n",
       "      <td>unknown/no savings account</td>\n",
       "      <td>1 &lt;= ... &lt; 4 yrs</td>\n",
       "      <td>25 &lt;= ... &lt; 35</td>\n",
       "      <td>male : married/widowed</td>\n",
       "      <td>none</td>\n",
       "      <td>...</td>\n",
       "      <td>unknown / no property</td>\n",
       "      <td>36</td>\n",
       "      <td>none</td>\n",
       "      <td>for free</td>\n",
       "      <td>3-Feb</td>\n",
       "      <td>skilled employee/official</td>\n",
       "      <td>3 or more</td>\n",
       "      <td>no</td>\n",
       "      <td>no</td>\n",
       "      <td>good</td>\n",
       "    </tr>\n",
       "    <tr>\n",
       "      <th>2</th>\n",
       "      <td>... &lt; 0 DM</td>\n",
       "      <td>12</td>\n",
       "      <td>no credits taken/all credits paid back duly</td>\n",
       "      <td>retraining</td>\n",
       "      <td>841</td>\n",
       "      <td>... &lt;  100 DM</td>\n",
       "      <td>4 &lt;= ... &lt; 7 yrs</td>\n",
       "      <td>25 &lt;= ... &lt; 35</td>\n",
       "      <td>female : non-single or male : single</td>\n",
       "      <td>none</td>\n",
       "      <td>...</td>\n",
       "      <td>unknown / no property</td>\n",
       "      <td>23</td>\n",
       "      <td>none</td>\n",
       "      <td>for free</td>\n",
       "      <td>1</td>\n",
       "      <td>unskilled - resident</td>\n",
       "      <td>0 to 2</td>\n",
       "      <td>no</td>\n",
       "      <td>no</td>\n",
       "      <td>good</td>\n",
       "    </tr>\n",
       "    <tr>\n",
       "      <th>3</th>\n",
       "      <td>no checking account</td>\n",
       "      <td>12</td>\n",
       "      <td>all credits at this bank paid back duly</td>\n",
       "      <td>others</td>\n",
       "      <td>2122</td>\n",
       "      <td>unknown/no savings account</td>\n",
       "      <td>1 &lt;= ... &lt; 4 yrs</td>\n",
       "      <td>20 &lt;= ... &lt; 25</td>\n",
       "      <td>male : married/widowed</td>\n",
       "      <td>none</td>\n",
       "      <td>...</td>\n",
       "      <td>unknown / no property</td>\n",
       "      <td>39</td>\n",
       "      <td>none</td>\n",
       "      <td>for free</td>\n",
       "      <td>3-Feb</td>\n",
       "      <td>unskilled - resident</td>\n",
       "      <td>3 or more</td>\n",
       "      <td>no</td>\n",
       "      <td>yes</td>\n",
       "      <td>good</td>\n",
       "    </tr>\n",
       "    <tr>\n",
       "      <th>4</th>\n",
       "      <td>no checking account</td>\n",
       "      <td>12</td>\n",
       "      <td>all credits at this bank paid back duly</td>\n",
       "      <td>others</td>\n",
       "      <td>2171</td>\n",
       "      <td>unknown/no savings account</td>\n",
       "      <td>1 &lt;= ... &lt; 4 yrs</td>\n",
       "      <td>&lt; 20</td>\n",
       "      <td>male : married/widowed</td>\n",
       "      <td>none</td>\n",
       "      <td>...</td>\n",
       "      <td>car or other</td>\n",
       "      <td>38</td>\n",
       "      <td>bank</td>\n",
       "      <td>rent</td>\n",
       "      <td>3-Feb</td>\n",
       "      <td>unskilled - resident</td>\n",
       "      <td>0 to 2</td>\n",
       "      <td>no</td>\n",
       "      <td>yes</td>\n",
       "      <td>good</td>\n",
       "    </tr>\n",
       "    <tr>\n",
       "      <th>...</th>\n",
       "      <td>...</td>\n",
       "      <td>...</td>\n",
       "      <td>...</td>\n",
       "      <td>...</td>\n",
       "      <td>...</td>\n",
       "      <td>...</td>\n",
       "      <td>...</td>\n",
       "      <td>...</td>\n",
       "      <td>...</td>\n",
       "      <td>...</td>\n",
       "      <td>...</td>\n",
       "      <td>...</td>\n",
       "      <td>...</td>\n",
       "      <td>...</td>\n",
       "      <td>...</td>\n",
       "      <td>...</td>\n",
       "      <td>...</td>\n",
       "      <td>...</td>\n",
       "      <td>...</td>\n",
       "      <td>...</td>\n",
       "      <td>...</td>\n",
       "    </tr>\n",
       "    <tr>\n",
       "      <th>995</th>\n",
       "      <td>no checking account</td>\n",
       "      <td>24</td>\n",
       "      <td>no credits taken/all credits paid back duly</td>\n",
       "      <td>furniture/equipment</td>\n",
       "      <td>1987</td>\n",
       "      <td>unknown/no savings account</td>\n",
       "      <td>1 &lt;= ... &lt; 4 yrs</td>\n",
       "      <td>25 &lt;= ... &lt; 35</td>\n",
       "      <td>male : married/widowed</td>\n",
       "      <td>none</td>\n",
       "      <td>...</td>\n",
       "      <td>unknown / no property</td>\n",
       "      <td>21</td>\n",
       "      <td>none</td>\n",
       "      <td>for free</td>\n",
       "      <td>1</td>\n",
       "      <td>unskilled - resident</td>\n",
       "      <td>3 or more</td>\n",
       "      <td>no</td>\n",
       "      <td>no</td>\n",
       "      <td>bad</td>\n",
       "    </tr>\n",
       "    <tr>\n",
       "      <th>996</th>\n",
       "      <td>no checking account</td>\n",
       "      <td>24</td>\n",
       "      <td>no credits taken/all credits paid back duly</td>\n",
       "      <td>others</td>\n",
       "      <td>2303</td>\n",
       "      <td>unknown/no savings account</td>\n",
       "      <td>&gt;= 7 yrs</td>\n",
       "      <td>&lt; 20</td>\n",
       "      <td>male : married/widowed</td>\n",
       "      <td>co-applicant</td>\n",
       "      <td>...</td>\n",
       "      <td>unknown / no property</td>\n",
       "      <td>45</td>\n",
       "      <td>none</td>\n",
       "      <td>rent</td>\n",
       "      <td>1</td>\n",
       "      <td>skilled employee/official</td>\n",
       "      <td>0 to 2</td>\n",
       "      <td>no</td>\n",
       "      <td>no</td>\n",
       "      <td>bad</td>\n",
       "    </tr>\n",
       "    <tr>\n",
       "      <th>997</th>\n",
       "      <td>... &gt;= 200 DM / salary for at least 1 year</td>\n",
       "      <td>21</td>\n",
       "      <td>all credits at this bank paid back duly</td>\n",
       "      <td>others</td>\n",
       "      <td>12680</td>\n",
       "      <td>... &gt;= 1000 DM</td>\n",
       "      <td>&gt;= 7 yrs</td>\n",
       "      <td>&lt; 20</td>\n",
       "      <td>male : married/widowed</td>\n",
       "      <td>none</td>\n",
       "      <td>...</td>\n",
       "      <td>real estate</td>\n",
       "      <td>30</td>\n",
       "      <td>none</td>\n",
       "      <td>own</td>\n",
       "      <td>1</td>\n",
       "      <td>manager/self-empl./highly qualif. employee</td>\n",
       "      <td>0 to 2</td>\n",
       "      <td>yes (under customer name)</td>\n",
       "      <td>no</td>\n",
       "      <td>bad</td>\n",
       "    </tr>\n",
       "    <tr>\n",
       "      <th>998</th>\n",
       "      <td>... &lt; 0 DM</td>\n",
       "      <td>12</td>\n",
       "      <td>no credits taken/all credits paid back duly</td>\n",
       "      <td>furniture/equipment</td>\n",
       "      <td>6468</td>\n",
       "      <td>... &gt;= 1000 DM</td>\n",
       "      <td>unemployed</td>\n",
       "      <td>25 &lt;= ... &lt; 35</td>\n",
       "      <td>male : married/widowed</td>\n",
       "      <td>none</td>\n",
       "      <td>...</td>\n",
       "      <td>real estate</td>\n",
       "      <td>52</td>\n",
       "      <td>none</td>\n",
       "      <td>rent</td>\n",
       "      <td>1</td>\n",
       "      <td>manager/self-empl./highly qualif. employee</td>\n",
       "      <td>0 to 2</td>\n",
       "      <td>yes (under customer name)</td>\n",
       "      <td>no</td>\n",
       "      <td>bad</td>\n",
       "    </tr>\n",
       "    <tr>\n",
       "      <th>999</th>\n",
       "      <td>no checking account</td>\n",
       "      <td>30</td>\n",
       "      <td>no credits taken/all credits paid back duly</td>\n",
       "      <td>car (used)</td>\n",
       "      <td>6350</td>\n",
       "      <td>... &gt;= 1000 DM</td>\n",
       "      <td>&gt;= 7 yrs</td>\n",
       "      <td>&lt; 20</td>\n",
       "      <td>male : married/widowed</td>\n",
       "      <td>none</td>\n",
       "      <td>...</td>\n",
       "      <td>car or other</td>\n",
       "      <td>31</td>\n",
       "      <td>none</td>\n",
       "      <td>rent</td>\n",
       "      <td>1</td>\n",
       "      <td>skilled employee/official</td>\n",
       "      <td>0 to 2</td>\n",
       "      <td>no</td>\n",
       "      <td>no</td>\n",
       "      <td>bad</td>\n",
       "    </tr>\n",
       "  </tbody>\n",
       "</table>\n",
       "<p>1000 rows × 21 columns</p>\n",
       "</div>"
      ],
      "text/plain": [
       "                                         status  duration  \\\n",
       "0                           no checking account        18   \n",
       "1                           no checking account         9   \n",
       "2                                    ... < 0 DM        12   \n",
       "3                           no checking account        12   \n",
       "4                           no checking account        12   \n",
       "..                                          ...       ...   \n",
       "995                         no checking account        24   \n",
       "996                         no checking account        24   \n",
       "997  ... >= 200 DM / salary for at least 1 year        21   \n",
       "998                                  ... < 0 DM        12   \n",
       "999                         no checking account        30   \n",
       "\n",
       "                                  credit_history              purpose  amount  \\\n",
       "0        all credits at this bank paid back duly           car (used)    1049   \n",
       "1        all credits at this bank paid back duly               others    2799   \n",
       "2    no credits taken/all credits paid back duly           retraining     841   \n",
       "3        all credits at this bank paid back duly               others    2122   \n",
       "4        all credits at this bank paid back duly               others    2171   \n",
       "..                                           ...                  ...     ...   \n",
       "995  no credits taken/all credits paid back duly  furniture/equipment    1987   \n",
       "996  no credits taken/all credits paid back duly               others    2303   \n",
       "997      all credits at this bank paid back duly               others   12680   \n",
       "998  no credits taken/all credits paid back duly  furniture/equipment    6468   \n",
       "999  no credits taken/all credits paid back duly           car (used)    6350   \n",
       "\n",
       "                        savings employment_duration installment_rate  \\\n",
       "0    unknown/no savings account              < 1 yr             < 20   \n",
       "1    unknown/no savings account    1 <= ... < 4 yrs   25 <= ... < 35   \n",
       "2                 ... <  100 DM    4 <= ... < 7 yrs   25 <= ... < 35   \n",
       "3    unknown/no savings account    1 <= ... < 4 yrs   20 <= ... < 25   \n",
       "4    unknown/no savings account    1 <= ... < 4 yrs             < 20   \n",
       "..                          ...                 ...              ...   \n",
       "995  unknown/no savings account    1 <= ... < 4 yrs   25 <= ... < 35   \n",
       "996  unknown/no savings account            >= 7 yrs             < 20   \n",
       "997              ... >= 1000 DM            >= 7 yrs             < 20   \n",
       "998              ... >= 1000 DM          unemployed   25 <= ... < 35   \n",
       "999              ... >= 1000 DM            >= 7 yrs             < 20   \n",
       "\n",
       "                      personal_status_sex other_debtors  ...  \\\n",
       "0    female : non-single or male : single          none  ...   \n",
       "1                  male : married/widowed          none  ...   \n",
       "2    female : non-single or male : single          none  ...   \n",
       "3                  male : married/widowed          none  ...   \n",
       "4                  male : married/widowed          none  ...   \n",
       "..                                    ...           ...  ...   \n",
       "995                male : married/widowed          none  ...   \n",
       "996                male : married/widowed  co-applicant  ...   \n",
       "997                male : married/widowed          none  ...   \n",
       "998                male : married/widowed          none  ...   \n",
       "999                male : married/widowed          none  ...   \n",
       "\n",
       "                  property age  other_installment_plans   housing  \\\n",
       "0             car or other  21                     none  for free   \n",
       "1    unknown / no property  36                     none  for free   \n",
       "2    unknown / no property  23                     none  for free   \n",
       "3    unknown / no property  39                     none  for free   \n",
       "4             car or other  38                     bank      rent   \n",
       "..                     ...  ..                      ...       ...   \n",
       "995  unknown / no property  21                     none  for free   \n",
       "996  unknown / no property  45                     none      rent   \n",
       "997            real estate  30                     none       own   \n",
       "998            real estate  52                     none      rent   \n",
       "999           car or other  31                     none      rent   \n",
       "\n",
       "    number_credits                                         job people_liable  \\\n",
       "0                1                   skilled employee/official        0 to 2   \n",
       "1            3-Feb                   skilled employee/official     3 or more   \n",
       "2                1                        unskilled - resident        0 to 2   \n",
       "3            3-Feb                        unskilled - resident     3 or more   \n",
       "4            3-Feb                        unskilled - resident        0 to 2   \n",
       "..             ...                                         ...           ...   \n",
       "995              1                        unskilled - resident     3 or more   \n",
       "996              1                   skilled employee/official        0 to 2   \n",
       "997              1  manager/self-empl./highly qualif. employee        0 to 2   \n",
       "998              1  manager/self-empl./highly qualif. employee        0 to 2   \n",
       "999              1                   skilled employee/official        0 to 2   \n",
       "\n",
       "                     telephone foreign_worker credit_risk  \n",
       "0                           no             no        good  \n",
       "1                           no             no        good  \n",
       "2                           no             no        good  \n",
       "3                           no            yes        good  \n",
       "4                           no            yes        good  \n",
       "..                         ...            ...         ...  \n",
       "995                         no             no         bad  \n",
       "996                         no             no         bad  \n",
       "997  yes (under customer name)             no         bad  \n",
       "998  yes (under customer name)             no         bad  \n",
       "999                         no             no         bad  \n",
       "\n",
       "[1000 rows x 21 columns]"
      ]
     },
     "execution_count": 269,
     "metadata": {},
     "output_type": "execute_result"
    }
   ],
   "source": [
    "df=pd.read_csv('C:/Users/shiva/Desktop/german_credit.csv')\n",
    "df"
   ]
  },
  {
   "cell_type": "code",
   "execution_count": 270,
   "id": "e45a058f",
   "metadata": {},
   "outputs": [
    {
     "data": {
      "text/plain": [
       "(1000, 21)"
      ]
     },
     "execution_count": 270,
     "metadata": {},
     "output_type": "execute_result"
    }
   ],
   "source": [
    "df.shape"
   ]
  },
  {
   "cell_type": "code",
   "execution_count": 271,
   "id": "64c52073",
   "metadata": {},
   "outputs": [
    {
     "name": "stdout",
     "output_type": "stream",
     "text": [
      "<class 'pandas.core.frame.DataFrame'>\n",
      "RangeIndex: 1000 entries, 0 to 999\n",
      "Data columns (total 21 columns):\n",
      " #   Column                   Non-Null Count  Dtype \n",
      "---  ------                   --------------  ----- \n",
      " 0   status                   1000 non-null   object\n",
      " 1   duration                 1000 non-null   int64 \n",
      " 2   credit_history           1000 non-null   object\n",
      " 3   purpose                  1000 non-null   object\n",
      " 4   amount                   1000 non-null   int64 \n",
      " 5   savings                  1000 non-null   object\n",
      " 6   employment_duration      1000 non-null   object\n",
      " 7   installment_rate         1000 non-null   object\n",
      " 8   personal_status_sex      1000 non-null   object\n",
      " 9   other_debtors            1000 non-null   object\n",
      " 10  present_residence        1000 non-null   object\n",
      " 11  property                 1000 non-null   object\n",
      " 12  age                      1000 non-null   int64 \n",
      " 13  other_installment_plans  1000 non-null   object\n",
      " 14  housing                  1000 non-null   object\n",
      " 15  number_credits           1000 non-null   object\n",
      " 16  job                      1000 non-null   object\n",
      " 17  people_liable            1000 non-null   object\n",
      " 18  telephone                1000 non-null   object\n",
      " 19  foreign_worker           1000 non-null   object\n",
      " 20  credit_risk              1000 non-null   object\n",
      "dtypes: int64(3), object(18)\n",
      "memory usage: 164.2+ KB\n"
     ]
    }
   ],
   "source": [
    "df.info()"
   ]
  },
  {
   "cell_type": "code",
   "execution_count": 272,
   "id": "f0ef486b",
   "metadata": {},
   "outputs": [
    {
     "data": {
      "text/plain": [
       "status                     0\n",
       "duration                   0\n",
       "credit_history             0\n",
       "purpose                    0\n",
       "amount                     0\n",
       "savings                    0\n",
       "employment_duration        0\n",
       "installment_rate           0\n",
       "personal_status_sex        0\n",
       "other_debtors              0\n",
       "present_residence          0\n",
       "property                   0\n",
       "age                        0\n",
       "other_installment_plans    0\n",
       "housing                    0\n",
       "number_credits             0\n",
       "job                        0\n",
       "people_liable              0\n",
       "telephone                  0\n",
       "foreign_worker             0\n",
       "credit_risk                0\n",
       "dtype: int64"
      ]
     },
     "execution_count": 272,
     "metadata": {},
     "output_type": "execute_result"
    }
   ],
   "source": [
    "df.isnull().sum()"
   ]
  },
  {
   "cell_type": "code",
   "execution_count": 273,
   "id": "7033eaeb",
   "metadata": {
    "scrolled": true
   },
   "outputs": [
    {
     "data": {
      "text/plain": [
       "0"
      ]
     },
     "execution_count": 273,
     "metadata": {},
     "output_type": "execute_result"
    }
   ],
   "source": [
    "df.duplicated().sum()"
   ]
  },
  {
   "cell_type": "code",
   "execution_count": 274,
   "id": "215b1646",
   "metadata": {
    "scrolled": true
   },
   "outputs": [
    {
     "data": {
      "text/html": [
       "<div>\n",
       "<style scoped>\n",
       "    .dataframe tbody tr th:only-of-type {\n",
       "        vertical-align: middle;\n",
       "    }\n",
       "\n",
       "    .dataframe tbody tr th {\n",
       "        vertical-align: top;\n",
       "    }\n",
       "\n",
       "    .dataframe thead th {\n",
       "        text-align: right;\n",
       "    }\n",
       "</style>\n",
       "<table border=\"1\" class=\"dataframe\">\n",
       "  <thead>\n",
       "    <tr style=\"text-align: right;\">\n",
       "      <th></th>\n",
       "      <th>duration</th>\n",
       "      <th>amount</th>\n",
       "      <th>age</th>\n",
       "    </tr>\n",
       "  </thead>\n",
       "  <tbody>\n",
       "    <tr>\n",
       "      <th>count</th>\n",
       "      <td>1000.000000</td>\n",
       "      <td>1000.00000</td>\n",
       "      <td>1000.00000</td>\n",
       "    </tr>\n",
       "    <tr>\n",
       "      <th>mean</th>\n",
       "      <td>20.903000</td>\n",
       "      <td>3271.24800</td>\n",
       "      <td>35.54200</td>\n",
       "    </tr>\n",
       "    <tr>\n",
       "      <th>std</th>\n",
       "      <td>12.058814</td>\n",
       "      <td>2822.75176</td>\n",
       "      <td>11.35267</td>\n",
       "    </tr>\n",
       "    <tr>\n",
       "      <th>min</th>\n",
       "      <td>4.000000</td>\n",
       "      <td>250.00000</td>\n",
       "      <td>19.00000</td>\n",
       "    </tr>\n",
       "    <tr>\n",
       "      <th>25%</th>\n",
       "      <td>12.000000</td>\n",
       "      <td>1365.50000</td>\n",
       "      <td>27.00000</td>\n",
       "    </tr>\n",
       "    <tr>\n",
       "      <th>50%</th>\n",
       "      <td>18.000000</td>\n",
       "      <td>2319.50000</td>\n",
       "      <td>33.00000</td>\n",
       "    </tr>\n",
       "    <tr>\n",
       "      <th>75%</th>\n",
       "      <td>24.000000</td>\n",
       "      <td>3972.25000</td>\n",
       "      <td>42.00000</td>\n",
       "    </tr>\n",
       "    <tr>\n",
       "      <th>max</th>\n",
       "      <td>72.000000</td>\n",
       "      <td>18424.00000</td>\n",
       "      <td>75.00000</td>\n",
       "    </tr>\n",
       "  </tbody>\n",
       "</table>\n",
       "</div>"
      ],
      "text/plain": [
       "          duration       amount         age\n",
       "count  1000.000000   1000.00000  1000.00000\n",
       "mean     20.903000   3271.24800    35.54200\n",
       "std      12.058814   2822.75176    11.35267\n",
       "min       4.000000    250.00000    19.00000\n",
       "25%      12.000000   1365.50000    27.00000\n",
       "50%      18.000000   2319.50000    33.00000\n",
       "75%      24.000000   3972.25000    42.00000\n",
       "max      72.000000  18424.00000    75.00000"
      ]
     },
     "execution_count": 274,
     "metadata": {},
     "output_type": "execute_result"
    }
   ],
   "source": [
    "df.describe()"
   ]
  },
  {
   "cell_type": "code",
   "execution_count": 275,
   "id": "91beb631",
   "metadata": {},
   "outputs": [
    {
     "data": {
      "text/plain": [
       "array(['no checking account', '... < 0 DM',\n",
       "       '... >= 200 DM / salary for at least 1 year', '0<= ... < 200 DM'],\n",
       "      dtype=object)"
      ]
     },
     "execution_count": 275,
     "metadata": {},
     "output_type": "execute_result"
    }
   ],
   "source": [
    "df['status'].unique()"
   ]
  },
  {
   "cell_type": "code",
   "execution_count": 276,
   "id": "5ac567cd",
   "metadata": {},
   "outputs": [
    {
     "data": {
      "text/plain": [
       "['no checking account',\n",
       " '... < 0 DM',\n",
       " '0<= ... < 200 DM',\n",
       " '... >= 200 DM / salary for at least 1 year']"
      ]
     },
     "execution_count": 276,
     "metadata": {},
     "output_type": "execute_result"
    }
   ],
   "source": [
    "oe1=[]\n",
    "for i in df['status'].unique():\n",
    "    oe1.append(i)\n",
    "oe1[2],oe1[3]=oe1[3],oe1[2]\n",
    "oe1"
   ]
  },
  {
   "cell_type": "code",
   "execution_count": 277,
   "id": "f8731b53",
   "metadata": {
    "scrolled": true
   },
   "outputs": [
    {
     "data": {
      "text/plain": [
       "array([18,  9, 12, 10,  8,  6, 24, 11, 30, 48, 36, 15, 42, 21, 27, 33, 28,\n",
       "        4, 47, 14, 39, 60,  5, 22, 54, 13, 16,  7, 20, 26, 45, 72, 40],\n",
       "      dtype=int64)"
      ]
     },
     "execution_count": 277,
     "metadata": {},
     "output_type": "execute_result"
    }
   ],
   "source": [
    "df['duration'].unique()"
   ]
  },
  {
   "cell_type": "code",
   "execution_count": 278,
   "id": "f5975b1b",
   "metadata": {
    "scrolled": true
   },
   "outputs": [
    {
     "data": {
      "text/plain": [
       "array(['all credits at this bank paid back duly',\n",
       "       'no credits taken/all credits paid back duly',\n",
       "       'existing credits paid back duly till now',\n",
       "       'delay in paying off in the past',\n",
       "       'critical account/other credits elsewhere'], dtype=object)"
      ]
     },
     "execution_count": 278,
     "metadata": {},
     "output_type": "execute_result"
    }
   ],
   "source": [
    "df['credit_history'].unique() "
   ]
  },
  {
   "cell_type": "code",
   "execution_count": 279,
   "id": "c99a5bfa",
   "metadata": {},
   "outputs": [
    {
     "data": {
      "text/plain": [
       "['critical account/other credits elsewhere',\n",
       " 'delay in paying off in the past',\n",
       " 'existing credits paid back duly till now',\n",
       " 'no credits taken/all credits paid back duly',\n",
       " 'all credits at this bank paid back duly']"
      ]
     },
     "execution_count": 279,
     "metadata": {},
     "output_type": "execute_result"
    }
   ],
   "source": [
    "oe2=[]\n",
    "for i in df['credit_history'].unique():\n",
    "    oe2.append(i)\n",
    "oe2=oe2[-1::-1]\n",
    "oe2"
   ]
  },
  {
   "cell_type": "code",
   "execution_count": 280,
   "id": "650bb849",
   "metadata": {
    "scrolled": true
   },
   "outputs": [
    {
     "data": {
      "text/plain": [
       "array(['car (used)', 'others', 'retraining', 'furniture/equipment',\n",
       "       'car (new)', 'business', 'domestic appliances', 'radio/television',\n",
       "       'repairs', 'vacation'], dtype=object)"
      ]
     },
     "execution_count": 280,
     "metadata": {},
     "output_type": "execute_result"
    }
   ],
   "source": [
    "df['purpose'].unique()"
   ]
  },
  {
   "cell_type": "code",
   "execution_count": 281,
   "id": "df923422",
   "metadata": {},
   "outputs": [],
   "source": [
    "oh=[]\n",
    "oh.append('purpose')"
   ]
  },
  {
   "cell_type": "code",
   "execution_count": 282,
   "id": "bbdd6a51",
   "metadata": {
    "scrolled": true
   },
   "outputs": [
    {
     "data": {
      "text/plain": [
       "array(['unknown/no savings account', '... <  100 DM',\n",
       "       '100 <= ... <  500 DM', '... >= 1000 DM', '500 <= ... < 1000 DM'],\n",
       "      dtype=object)"
      ]
     },
     "execution_count": 282,
     "metadata": {},
     "output_type": "execute_result"
    }
   ],
   "source": [
    "df['savings'].unique()"
   ]
  },
  {
   "cell_type": "code",
   "execution_count": 283,
   "id": "d0da06a2",
   "metadata": {},
   "outputs": [
    {
     "data": {
      "text/plain": [
       "['unknown/no savings account',\n",
       " '... <  100 DM',\n",
       " '100 <= ... <  500 DM',\n",
       " '500 <= ... < 1000 DM',\n",
       " '... >= 1000 DM']"
      ]
     },
     "execution_count": 283,
     "metadata": {},
     "output_type": "execute_result"
    }
   ],
   "source": [
    "oe3=[]\n",
    "for i in df['savings'].unique():\n",
    "    oe3.append(i)\n",
    "oe3[3],oe3[4]=oe3[4],oe3[3]\n",
    "oe3"
   ]
  },
  {
   "cell_type": "code",
   "execution_count": 284,
   "id": "4c209cc2",
   "metadata": {},
   "outputs": [
    {
     "data": {
      "text/plain": [
       "array(['< 1 yr', '1 <= ... < 4 yrs', '4 <= ... < 7 yrs', 'unemployed',\n",
       "       '>= 7 yrs'], dtype=object)"
      ]
     },
     "execution_count": 284,
     "metadata": {},
     "output_type": "execute_result"
    }
   ],
   "source": [
    "df['employment_duration'].unique()"
   ]
  },
  {
   "cell_type": "code",
   "execution_count": 285,
   "id": "e5b79409",
   "metadata": {},
   "outputs": [
    {
     "data": {
      "text/plain": [
       "['unemployed', '< 1 yr', '1 <= ... < 4 yrs', '4 <= ... < 7 yrs', '>= 7 yrs']"
      ]
     },
     "execution_count": 285,
     "metadata": {},
     "output_type": "execute_result"
    }
   ],
   "source": [
    "oe4=[]\n",
    "for i in df['employment_duration'].unique():\n",
    "    oe4.append(i)\n",
    "oe4[-1],oe4[-2]=oe4[-2],oe4[-1]\n",
    "temp=[]\n",
    "temp.append(oe4[-1])\n",
    "for j in range(0,4):\n",
    "    temp.append(oe4[j])\n",
    "oe4=temp\n",
    "oe4"
   ]
  },
  {
   "cell_type": "code",
   "execution_count": 286,
   "id": "106aee94",
   "metadata": {},
   "outputs": [
    {
     "data": {
      "text/plain": [
       "array(['< 20', '25 <= ... < 35', '20 <= ... < 25', '>= 35'], dtype=object)"
      ]
     },
     "execution_count": 286,
     "metadata": {},
     "output_type": "execute_result"
    }
   ],
   "source": [
    "df['installment_rate'].unique()"
   ]
  },
  {
   "cell_type": "code",
   "execution_count": 287,
   "id": "2286b1bd",
   "metadata": {},
   "outputs": [
    {
     "data": {
      "text/plain": [
       "['< 20', '20 <= ... < 25', '25 <= ... < 35', '>= 35']"
      ]
     },
     "execution_count": 287,
     "metadata": {},
     "output_type": "execute_result"
    }
   ],
   "source": [
    "oe5=[]\n",
    "for i in df['installment_rate'].unique():\n",
    "    oe5.append(i)\n",
    "oe5[1],oe5[2]=oe5[2],oe5[1]\n",
    "oe5"
   ]
  },
  {
   "cell_type": "code",
   "execution_count": 288,
   "id": "672da2e3",
   "metadata": {},
   "outputs": [
    {
     "data": {
      "text/plain": [
       "array(['female : non-single or male : single', 'male : married/widowed',\n",
       "       'female : single', 'male : divorced/separated'], dtype=object)"
      ]
     },
     "execution_count": 288,
     "metadata": {},
     "output_type": "execute_result"
    }
   ],
   "source": [
    "df['personal_status_sex'].unique()"
   ]
  },
  {
   "cell_type": "code",
   "execution_count": 289,
   "id": "4de4bbd8",
   "metadata": {},
   "outputs": [],
   "source": [
    "oh.append('personal_status_sex')"
   ]
  },
  {
   "cell_type": "code",
   "execution_count": 290,
   "id": "0cd33f48",
   "metadata": {},
   "outputs": [
    {
     "data": {
      "text/plain": [
       "array(['none', 'guarantor', 'co-applicant'], dtype=object)"
      ]
     },
     "execution_count": 290,
     "metadata": {},
     "output_type": "execute_result"
    }
   ],
   "source": [
    "df['other_debtors'].unique()"
   ]
  },
  {
   "cell_type": "code",
   "execution_count": 291,
   "id": "a4e0d23e",
   "metadata": {
    "scrolled": true
   },
   "outputs": [
    {
     "data": {
      "text/plain": [
       "['purpose', 'personal_status_sex', 'other_debtors']"
      ]
     },
     "execution_count": 291,
     "metadata": {},
     "output_type": "execute_result"
    }
   ],
   "source": [
    "oh.append('other_debtors')\n",
    "oh"
   ]
  },
  {
   "cell_type": "code",
   "execution_count": 292,
   "id": "5417f0cf",
   "metadata": {},
   "outputs": [
    {
     "data": {
      "text/plain": [
       "array(['>= 7 yrs', '1 <= ... < 4 yrs', '4 <= ... < 7 yrs', '< 1 yr'],\n",
       "      dtype=object)"
      ]
     },
     "execution_count": 292,
     "metadata": {},
     "output_type": "execute_result"
    }
   ],
   "source": [
    "df['present_residence'].unique()"
   ]
  },
  {
   "cell_type": "code",
   "execution_count": 293,
   "id": "7c35fc9b",
   "metadata": {},
   "outputs": [
    {
     "data": {
      "text/plain": [
       "['< 1 yr', '1 <= ... < 4 yrs', '4 <= ... < 7 yrs', '>= 7 yrs']"
      ]
     },
     "execution_count": 293,
     "metadata": {},
     "output_type": "execute_result"
    }
   ],
   "source": [
    "oe6=[]\n",
    "for i in df['present_residence'].unique():\n",
    "    oe6.append(i)\n",
    "oe6[0],oe6[-1]=oe6[-1],oe6[0]\n",
    "oe6"
   ]
  },
  {
   "cell_type": "code",
   "execution_count": 294,
   "id": "97387205",
   "metadata": {},
   "outputs": [
    {
     "data": {
      "text/plain": [
       "array(['car or other', 'unknown / no property',\n",
       "       'building soc. savings agr./life insurance', 'real estate'],\n",
       "      dtype=object)"
      ]
     },
     "execution_count": 294,
     "metadata": {},
     "output_type": "execute_result"
    }
   ],
   "source": [
    "df['property'].unique()"
   ]
  },
  {
   "cell_type": "code",
   "execution_count": 295,
   "id": "248b5e13",
   "metadata": {},
   "outputs": [],
   "source": [
    "oh.append('property')"
   ]
  },
  {
   "cell_type": "code",
   "execution_count": 296,
   "id": "b41a6095",
   "metadata": {
    "scrolled": true
   },
   "outputs": [
    {
     "data": {
      "text/plain": [
       "array([21, 36, 23, 39, 38, 48, 40, 65, 24, 31, 44, 25, 37, 49, 33, 26, 51,\n",
       "       29, 56, 47, 34, 28, 41, 58, 61, 30, 63, 27, 45, 43, 52, 22, 60, 32,\n",
       "       35, 42, 59, 54, 64, 46, 74, 50, 20, 55, 53, 19, 57, 66, 68, 70, 67,\n",
       "       75, 62], dtype=int64)"
      ]
     },
     "execution_count": 296,
     "metadata": {},
     "output_type": "execute_result"
    }
   ],
   "source": [
    "df['age'].unique()"
   ]
  },
  {
   "cell_type": "code",
   "execution_count": 297,
   "id": "0a5938d5",
   "metadata": {},
   "outputs": [
    {
     "data": {
      "text/plain": [
       "array(['none', 'bank', 'stores'], dtype=object)"
      ]
     },
     "execution_count": 297,
     "metadata": {},
     "output_type": "execute_result"
    }
   ],
   "source": [
    "df['other_installment_plans'].unique()"
   ]
  },
  {
   "cell_type": "code",
   "execution_count": 298,
   "id": "25cabe8a",
   "metadata": {},
   "outputs": [],
   "source": [
    "oh.append('other_installment_plans')"
   ]
  },
  {
   "cell_type": "code",
   "execution_count": 299,
   "id": "a76484b8",
   "metadata": {},
   "outputs": [
    {
     "data": {
      "text/plain": [
       "array(['for free', 'rent', 'own'], dtype=object)"
      ]
     },
     "execution_count": 299,
     "metadata": {},
     "output_type": "execute_result"
    }
   ],
   "source": [
    "df['housing'].unique()"
   ]
  },
  {
   "cell_type": "code",
   "execution_count": 300,
   "id": "356875e3",
   "metadata": {},
   "outputs": [],
   "source": [
    "oh.append('housing')"
   ]
  },
  {
   "cell_type": "code",
   "execution_count": 301,
   "id": "76f015fa",
   "metadata": {},
   "outputs": [
    {
     "data": {
      "text/plain": [
       "array(['1', '3-Feb', '5-Apr', '>= 6'], dtype=object)"
      ]
     },
     "execution_count": 301,
     "metadata": {},
     "output_type": "execute_result"
    }
   ],
   "source": [
    "df['number_credits'].unique()"
   ]
  },
  {
   "cell_type": "code",
   "execution_count": 302,
   "id": "cfa573f4",
   "metadata": {},
   "outputs": [
    {
     "data": {
      "text/plain": [
       "1        633\n",
       "3-Feb    333\n",
       "5-Apr     28\n",
       ">= 6       6\n",
       "Name: number_credits, dtype: int64"
      ]
     },
     "execution_count": 302,
     "metadata": {},
     "output_type": "execute_result"
    }
   ],
   "source": [
    "df['number_credits'].value_counts()"
   ]
  },
  {
   "cell_type": "code",
   "execution_count": 303,
   "id": "f8259219",
   "metadata": {
    "scrolled": true
   },
   "outputs": [],
   "source": [
    "df=df.drop('number_credits',axis=1)"
   ]
  },
  {
   "cell_type": "code",
   "execution_count": 304,
   "id": "646e1ffe",
   "metadata": {},
   "outputs": [
    {
     "data": {
      "text/plain": [
       "array(['skilled employee/official', 'unskilled - resident',\n",
       "       'unemployed/unskilled - non-resident',\n",
       "       'manager/self-empl./highly qualif. employee'], dtype=object)"
      ]
     },
     "execution_count": 304,
     "metadata": {},
     "output_type": "execute_result"
    }
   ],
   "source": [
    "df['job'].unique()"
   ]
  },
  {
   "cell_type": "code",
   "execution_count": 305,
   "id": "1ebf8c8c",
   "metadata": {},
   "outputs": [
    {
     "data": {
      "text/plain": [
       "['unemployed/unskilled - non-resident',\n",
       " 'unskilled - resident',\n",
       " 'skilled employee/official',\n",
       " 'manager/self-empl./highly qualif. employee']"
      ]
     },
     "execution_count": 305,
     "metadata": {},
     "output_type": "execute_result"
    }
   ],
   "source": [
    "oe7=[]\n",
    "for i in df['job'].unique():\n",
    "    oe7.append(i)\n",
    "oe7[0],oe7[2]=oe7[2],oe7[0]\n",
    "oe7"
   ]
  },
  {
   "cell_type": "code",
   "execution_count": 306,
   "id": "fdf7b941",
   "metadata": {},
   "outputs": [
    {
     "data": {
      "text/plain": [
       "array(['0 to 2', '3 or more'], dtype=object)"
      ]
     },
     "execution_count": 306,
     "metadata": {},
     "output_type": "execute_result"
    }
   ],
   "source": [
    "df['people_liable'].unique()"
   ]
  },
  {
   "cell_type": "code",
   "execution_count": 307,
   "id": "82b9572c",
   "metadata": {},
   "outputs": [
    {
     "data": {
      "text/plain": [
       "['0 to 2', '3 or more']"
      ]
     },
     "execution_count": 307,
     "metadata": {},
     "output_type": "execute_result"
    }
   ],
   "source": [
    "oe8=[]\n",
    "for i in df['people_liable'].unique():\n",
    "    oe8.append(i)\n",
    "oe8    "
   ]
  },
  {
   "cell_type": "code",
   "execution_count": 308,
   "id": "cd5ad12d",
   "metadata": {},
   "outputs": [
    {
     "data": {
      "text/plain": [
       "array(['no', 'yes (under customer name)'], dtype=object)"
      ]
     },
     "execution_count": 308,
     "metadata": {},
     "output_type": "execute_result"
    }
   ],
   "source": [
    "df['telephone'].unique()"
   ]
  },
  {
   "cell_type": "code",
   "execution_count": 309,
   "id": "87c41ac4",
   "metadata": {},
   "outputs": [
    {
     "data": {
      "text/plain": [
       "['no', 'yes (under customer name)']"
      ]
     },
     "execution_count": 309,
     "metadata": {},
     "output_type": "execute_result"
    }
   ],
   "source": [
    "oe9=[]\n",
    "for i in df['telephone'].unique():\n",
    "    oe9.append(i)\n",
    "oe9  "
   ]
  },
  {
   "cell_type": "code",
   "execution_count": 310,
   "id": "081cee66",
   "metadata": {},
   "outputs": [
    {
     "data": {
      "text/plain": [
       "array(['no', 'yes'], dtype=object)"
      ]
     },
     "execution_count": 310,
     "metadata": {},
     "output_type": "execute_result"
    }
   ],
   "source": [
    "df['foreign_worker'].unique()"
   ]
  },
  {
   "cell_type": "code",
   "execution_count": 311,
   "id": "ca5ee56a",
   "metadata": {},
   "outputs": [
    {
     "data": {
      "text/plain": [
       "['yes', 'no']"
      ]
     },
     "execution_count": 311,
     "metadata": {},
     "output_type": "execute_result"
    }
   ],
   "source": [
    "oe10=[]\n",
    "for i in df['foreign_worker'].unique():\n",
    "    oe10.append(i)\n",
    "oe10[0],oe10[1]=oe10[1],oe10[0]\n",
    "oe10"
   ]
  },
  {
   "cell_type": "code",
   "execution_count": 312,
   "id": "21ee0f6f",
   "metadata": {
    "scrolled": true
   },
   "outputs": [
    {
     "data": {
      "text/html": [
       "<div>\n",
       "<style scoped>\n",
       "    .dataframe tbody tr th:only-of-type {\n",
       "        vertical-align: middle;\n",
       "    }\n",
       "\n",
       "    .dataframe tbody tr th {\n",
       "        vertical-align: top;\n",
       "    }\n",
       "\n",
       "    .dataframe thead th {\n",
       "        text-align: right;\n",
       "    }\n",
       "</style>\n",
       "<table border=\"1\" class=\"dataframe\">\n",
       "  <thead>\n",
       "    <tr style=\"text-align: right;\">\n",
       "      <th></th>\n",
       "      <th>status</th>\n",
       "      <th>duration</th>\n",
       "      <th>credit_history</th>\n",
       "      <th>purpose</th>\n",
       "      <th>amount</th>\n",
       "      <th>savings</th>\n",
       "      <th>employment_duration</th>\n",
       "      <th>installment_rate</th>\n",
       "      <th>personal_status_sex</th>\n",
       "      <th>other_debtors</th>\n",
       "      <th>present_residence</th>\n",
       "      <th>property</th>\n",
       "      <th>age</th>\n",
       "      <th>other_installment_plans</th>\n",
       "      <th>housing</th>\n",
       "      <th>job</th>\n",
       "      <th>people_liable</th>\n",
       "      <th>telephone</th>\n",
       "      <th>foreign_worker</th>\n",
       "      <th>credit_risk</th>\n",
       "    </tr>\n",
       "  </thead>\n",
       "  <tbody>\n",
       "    <tr>\n",
       "      <th>0</th>\n",
       "      <td>0.0</td>\n",
       "      <td>18</td>\n",
       "      <td>4.0</td>\n",
       "      <td>car (used)</td>\n",
       "      <td>1049</td>\n",
       "      <td>0.0</td>\n",
       "      <td>1.0</td>\n",
       "      <td>0.0</td>\n",
       "      <td>female : non-single or male : single</td>\n",
       "      <td>none</td>\n",
       "      <td>3.0</td>\n",
       "      <td>car or other</td>\n",
       "      <td>21</td>\n",
       "      <td>none</td>\n",
       "      <td>for free</td>\n",
       "      <td>2.0</td>\n",
       "      <td>0.0</td>\n",
       "      <td>0.0</td>\n",
       "      <td>1.0</td>\n",
       "      <td>good</td>\n",
       "    </tr>\n",
       "    <tr>\n",
       "      <th>1</th>\n",
       "      <td>0.0</td>\n",
       "      <td>9</td>\n",
       "      <td>4.0</td>\n",
       "      <td>others</td>\n",
       "      <td>2799</td>\n",
       "      <td>0.0</td>\n",
       "      <td>2.0</td>\n",
       "      <td>2.0</td>\n",
       "      <td>male : married/widowed</td>\n",
       "      <td>none</td>\n",
       "      <td>1.0</td>\n",
       "      <td>unknown / no property</td>\n",
       "      <td>36</td>\n",
       "      <td>none</td>\n",
       "      <td>for free</td>\n",
       "      <td>2.0</td>\n",
       "      <td>1.0</td>\n",
       "      <td>0.0</td>\n",
       "      <td>1.0</td>\n",
       "      <td>good</td>\n",
       "    </tr>\n",
       "    <tr>\n",
       "      <th>2</th>\n",
       "      <td>1.0</td>\n",
       "      <td>12</td>\n",
       "      <td>3.0</td>\n",
       "      <td>retraining</td>\n",
       "      <td>841</td>\n",
       "      <td>1.0</td>\n",
       "      <td>3.0</td>\n",
       "      <td>2.0</td>\n",
       "      <td>female : non-single or male : single</td>\n",
       "      <td>none</td>\n",
       "      <td>3.0</td>\n",
       "      <td>unknown / no property</td>\n",
       "      <td>23</td>\n",
       "      <td>none</td>\n",
       "      <td>for free</td>\n",
       "      <td>1.0</td>\n",
       "      <td>0.0</td>\n",
       "      <td>0.0</td>\n",
       "      <td>1.0</td>\n",
       "      <td>good</td>\n",
       "    </tr>\n",
       "    <tr>\n",
       "      <th>3</th>\n",
       "      <td>0.0</td>\n",
       "      <td>12</td>\n",
       "      <td>4.0</td>\n",
       "      <td>others</td>\n",
       "      <td>2122</td>\n",
       "      <td>0.0</td>\n",
       "      <td>2.0</td>\n",
       "      <td>1.0</td>\n",
       "      <td>male : married/widowed</td>\n",
       "      <td>none</td>\n",
       "      <td>1.0</td>\n",
       "      <td>unknown / no property</td>\n",
       "      <td>39</td>\n",
       "      <td>none</td>\n",
       "      <td>for free</td>\n",
       "      <td>1.0</td>\n",
       "      <td>1.0</td>\n",
       "      <td>0.0</td>\n",
       "      <td>0.0</td>\n",
       "      <td>good</td>\n",
       "    </tr>\n",
       "    <tr>\n",
       "      <th>4</th>\n",
       "      <td>0.0</td>\n",
       "      <td>12</td>\n",
       "      <td>4.0</td>\n",
       "      <td>others</td>\n",
       "      <td>2171</td>\n",
       "      <td>0.0</td>\n",
       "      <td>2.0</td>\n",
       "      <td>0.0</td>\n",
       "      <td>male : married/widowed</td>\n",
       "      <td>none</td>\n",
       "      <td>3.0</td>\n",
       "      <td>car or other</td>\n",
       "      <td>38</td>\n",
       "      <td>bank</td>\n",
       "      <td>rent</td>\n",
       "      <td>1.0</td>\n",
       "      <td>0.0</td>\n",
       "      <td>0.0</td>\n",
       "      <td>0.0</td>\n",
       "      <td>good</td>\n",
       "    </tr>\n",
       "    <tr>\n",
       "      <th>...</th>\n",
       "      <td>...</td>\n",
       "      <td>...</td>\n",
       "      <td>...</td>\n",
       "      <td>...</td>\n",
       "      <td>...</td>\n",
       "      <td>...</td>\n",
       "      <td>...</td>\n",
       "      <td>...</td>\n",
       "      <td>...</td>\n",
       "      <td>...</td>\n",
       "      <td>...</td>\n",
       "      <td>...</td>\n",
       "      <td>...</td>\n",
       "      <td>...</td>\n",
       "      <td>...</td>\n",
       "      <td>...</td>\n",
       "      <td>...</td>\n",
       "      <td>...</td>\n",
       "      <td>...</td>\n",
       "      <td>...</td>\n",
       "    </tr>\n",
       "    <tr>\n",
       "      <th>995</th>\n",
       "      <td>0.0</td>\n",
       "      <td>24</td>\n",
       "      <td>3.0</td>\n",
       "      <td>furniture/equipment</td>\n",
       "      <td>1987</td>\n",
       "      <td>0.0</td>\n",
       "      <td>2.0</td>\n",
       "      <td>2.0</td>\n",
       "      <td>male : married/widowed</td>\n",
       "      <td>none</td>\n",
       "      <td>3.0</td>\n",
       "      <td>unknown / no property</td>\n",
       "      <td>21</td>\n",
       "      <td>none</td>\n",
       "      <td>for free</td>\n",
       "      <td>1.0</td>\n",
       "      <td>1.0</td>\n",
       "      <td>0.0</td>\n",
       "      <td>1.0</td>\n",
       "      <td>bad</td>\n",
       "    </tr>\n",
       "    <tr>\n",
       "      <th>996</th>\n",
       "      <td>0.0</td>\n",
       "      <td>24</td>\n",
       "      <td>3.0</td>\n",
       "      <td>others</td>\n",
       "      <td>2303</td>\n",
       "      <td>0.0</td>\n",
       "      <td>4.0</td>\n",
       "      <td>0.0</td>\n",
       "      <td>male : married/widowed</td>\n",
       "      <td>co-applicant</td>\n",
       "      <td>0.0</td>\n",
       "      <td>unknown / no property</td>\n",
       "      <td>45</td>\n",
       "      <td>none</td>\n",
       "      <td>rent</td>\n",
       "      <td>2.0</td>\n",
       "      <td>0.0</td>\n",
       "      <td>0.0</td>\n",
       "      <td>1.0</td>\n",
       "      <td>bad</td>\n",
       "    </tr>\n",
       "    <tr>\n",
       "      <th>997</th>\n",
       "      <td>3.0</td>\n",
       "      <td>21</td>\n",
       "      <td>4.0</td>\n",
       "      <td>others</td>\n",
       "      <td>12680</td>\n",
       "      <td>4.0</td>\n",
       "      <td>4.0</td>\n",
       "      <td>0.0</td>\n",
       "      <td>male : married/widowed</td>\n",
       "      <td>none</td>\n",
       "      <td>3.0</td>\n",
       "      <td>real estate</td>\n",
       "      <td>30</td>\n",
       "      <td>none</td>\n",
       "      <td>own</td>\n",
       "      <td>3.0</td>\n",
       "      <td>0.0</td>\n",
       "      <td>1.0</td>\n",
       "      <td>1.0</td>\n",
       "      <td>bad</td>\n",
       "    </tr>\n",
       "    <tr>\n",
       "      <th>998</th>\n",
       "      <td>1.0</td>\n",
       "      <td>12</td>\n",
       "      <td>3.0</td>\n",
       "      <td>furniture/equipment</td>\n",
       "      <td>6468</td>\n",
       "      <td>4.0</td>\n",
       "      <td>0.0</td>\n",
       "      <td>2.0</td>\n",
       "      <td>male : married/widowed</td>\n",
       "      <td>none</td>\n",
       "      <td>0.0</td>\n",
       "      <td>real estate</td>\n",
       "      <td>52</td>\n",
       "      <td>none</td>\n",
       "      <td>rent</td>\n",
       "      <td>3.0</td>\n",
       "      <td>0.0</td>\n",
       "      <td>1.0</td>\n",
       "      <td>1.0</td>\n",
       "      <td>bad</td>\n",
       "    </tr>\n",
       "    <tr>\n",
       "      <th>999</th>\n",
       "      <td>0.0</td>\n",
       "      <td>30</td>\n",
       "      <td>3.0</td>\n",
       "      <td>car (used)</td>\n",
       "      <td>6350</td>\n",
       "      <td>4.0</td>\n",
       "      <td>4.0</td>\n",
       "      <td>0.0</td>\n",
       "      <td>male : married/widowed</td>\n",
       "      <td>none</td>\n",
       "      <td>3.0</td>\n",
       "      <td>car or other</td>\n",
       "      <td>31</td>\n",
       "      <td>none</td>\n",
       "      <td>rent</td>\n",
       "      <td>2.0</td>\n",
       "      <td>0.0</td>\n",
       "      <td>0.0</td>\n",
       "      <td>1.0</td>\n",
       "      <td>bad</td>\n",
       "    </tr>\n",
       "  </tbody>\n",
       "</table>\n",
       "<p>1000 rows × 20 columns</p>\n",
       "</div>"
      ],
      "text/plain": [
       "     status  duration  credit_history              purpose  amount  savings  \\\n",
       "0       0.0        18             4.0           car (used)    1049      0.0   \n",
       "1       0.0         9             4.0               others    2799      0.0   \n",
       "2       1.0        12             3.0           retraining     841      1.0   \n",
       "3       0.0        12             4.0               others    2122      0.0   \n",
       "4       0.0        12             4.0               others    2171      0.0   \n",
       "..      ...       ...             ...                  ...     ...      ...   \n",
       "995     0.0        24             3.0  furniture/equipment    1987      0.0   \n",
       "996     0.0        24             3.0               others    2303      0.0   \n",
       "997     3.0        21             4.0               others   12680      4.0   \n",
       "998     1.0        12             3.0  furniture/equipment    6468      4.0   \n",
       "999     0.0        30             3.0           car (used)    6350      4.0   \n",
       "\n",
       "     employment_duration  installment_rate  \\\n",
       "0                    1.0               0.0   \n",
       "1                    2.0               2.0   \n",
       "2                    3.0               2.0   \n",
       "3                    2.0               1.0   \n",
       "4                    2.0               0.0   \n",
       "..                   ...               ...   \n",
       "995                  2.0               2.0   \n",
       "996                  4.0               0.0   \n",
       "997                  4.0               0.0   \n",
       "998                  0.0               2.0   \n",
       "999                  4.0               0.0   \n",
       "\n",
       "                      personal_status_sex other_debtors  present_residence  \\\n",
       "0    female : non-single or male : single          none                3.0   \n",
       "1                  male : married/widowed          none                1.0   \n",
       "2    female : non-single or male : single          none                3.0   \n",
       "3                  male : married/widowed          none                1.0   \n",
       "4                  male : married/widowed          none                3.0   \n",
       "..                                    ...           ...                ...   \n",
       "995                male : married/widowed          none                3.0   \n",
       "996                male : married/widowed  co-applicant                0.0   \n",
       "997                male : married/widowed          none                3.0   \n",
       "998                male : married/widowed          none                0.0   \n",
       "999                male : married/widowed          none                3.0   \n",
       "\n",
       "                  property  age other_installment_plans   housing  job  \\\n",
       "0             car or other   21                    none  for free  2.0   \n",
       "1    unknown / no property   36                    none  for free  2.0   \n",
       "2    unknown / no property   23                    none  for free  1.0   \n",
       "3    unknown / no property   39                    none  for free  1.0   \n",
       "4             car or other   38                    bank      rent  1.0   \n",
       "..                     ...  ...                     ...       ...  ...   \n",
       "995  unknown / no property   21                    none  for free  1.0   \n",
       "996  unknown / no property   45                    none      rent  2.0   \n",
       "997            real estate   30                    none       own  3.0   \n",
       "998            real estate   52                    none      rent  3.0   \n",
       "999           car or other   31                    none      rent  2.0   \n",
       "\n",
       "     people_liable  telephone  foreign_worker credit_risk  \n",
       "0              0.0        0.0             1.0        good  \n",
       "1              1.0        0.0             1.0        good  \n",
       "2              0.0        0.0             1.0        good  \n",
       "3              1.0        0.0             0.0        good  \n",
       "4              0.0        0.0             0.0        good  \n",
       "..             ...        ...             ...         ...  \n",
       "995            1.0        0.0             1.0         bad  \n",
       "996            0.0        0.0             1.0         bad  \n",
       "997            0.0        1.0             1.0         bad  \n",
       "998            0.0        1.0             1.0         bad  \n",
       "999            0.0        0.0             1.0         bad  \n",
       "\n",
       "[1000 rows x 20 columns]"
      ]
     },
     "execution_count": 312,
     "metadata": {},
     "output_type": "execute_result"
    }
   ],
   "source": [
    "from sklearn.preprocessing import OrdinalEncoder\n",
    "category_mapping = {'status': oe1, 'credit_history': oe2,'savings':oe3 ,'employment_duration':oe4 ,'installment_rate':oe5 ,'present_residence': oe6,'job':oe7 ,'people_liable':oe8 ,'telephone':oe9 ,'foreign_worker':oe10 }\n",
    "for column, categories in category_mapping.items():\n",
    "    encoder = OrdinalEncoder(categories=[categories])\n",
    "    df[column] = encoder.fit_transform(df[[column]])\n",
    "df    "
   ]
  },
  {
   "cell_type": "code",
   "execution_count": 313,
   "id": "bd69ae5f",
   "metadata": {},
   "outputs": [
    {
     "data": {
      "text/plain": [
       "['purpose',\n",
       " 'personal_status_sex',\n",
       " 'other_debtors',\n",
       " 'property',\n",
       " 'other_installment_plans',\n",
       " 'housing']"
      ]
     },
     "execution_count": 313,
     "metadata": {},
     "output_type": "execute_result"
    }
   ],
   "source": [
    "oh"
   ]
  },
  {
   "cell_type": "code",
   "execution_count": 314,
   "id": "7d5355d9",
   "metadata": {
    "scrolled": true
   },
   "outputs": [
    {
     "data": {
      "text/html": [
       "<div>\n",
       "<style scoped>\n",
       "    .dataframe tbody tr th:only-of-type {\n",
       "        vertical-align: middle;\n",
       "    }\n",
       "\n",
       "    .dataframe tbody tr th {\n",
       "        vertical-align: top;\n",
       "    }\n",
       "\n",
       "    .dataframe thead th {\n",
       "        text-align: right;\n",
       "    }\n",
       "</style>\n",
       "<table border=\"1\" class=\"dataframe\">\n",
       "  <thead>\n",
       "    <tr style=\"text-align: right;\">\n",
       "      <th></th>\n",
       "      <th>status</th>\n",
       "      <th>duration</th>\n",
       "      <th>credit_history</th>\n",
       "      <th>amount</th>\n",
       "      <th>savings</th>\n",
       "      <th>employment_duration</th>\n",
       "      <th>installment_rate</th>\n",
       "      <th>present_residence</th>\n",
       "      <th>age</th>\n",
       "      <th>job</th>\n",
       "      <th>...</th>\n",
       "      <th>property_building soc. savings agr./life insurance</th>\n",
       "      <th>property_car or other</th>\n",
       "      <th>property_real estate</th>\n",
       "      <th>property_unknown / no property</th>\n",
       "      <th>other_installment_plans_bank</th>\n",
       "      <th>other_installment_plans_none</th>\n",
       "      <th>other_installment_plans_stores</th>\n",
       "      <th>housing_for free</th>\n",
       "      <th>housing_own</th>\n",
       "      <th>housing_rent</th>\n",
       "    </tr>\n",
       "  </thead>\n",
       "  <tbody>\n",
       "    <tr>\n",
       "      <th>0</th>\n",
       "      <td>0.0</td>\n",
       "      <td>18</td>\n",
       "      <td>4.0</td>\n",
       "      <td>1049</td>\n",
       "      <td>0.0</td>\n",
       "      <td>1.0</td>\n",
       "      <td>0.0</td>\n",
       "      <td>3.0</td>\n",
       "      <td>21</td>\n",
       "      <td>2.0</td>\n",
       "      <td>...</td>\n",
       "      <td>0</td>\n",
       "      <td>1</td>\n",
       "      <td>0</td>\n",
       "      <td>0</td>\n",
       "      <td>0</td>\n",
       "      <td>1</td>\n",
       "      <td>0</td>\n",
       "      <td>1</td>\n",
       "      <td>0</td>\n",
       "      <td>0</td>\n",
       "    </tr>\n",
       "    <tr>\n",
       "      <th>1</th>\n",
       "      <td>0.0</td>\n",
       "      <td>9</td>\n",
       "      <td>4.0</td>\n",
       "      <td>2799</td>\n",
       "      <td>0.0</td>\n",
       "      <td>2.0</td>\n",
       "      <td>2.0</td>\n",
       "      <td>1.0</td>\n",
       "      <td>36</td>\n",
       "      <td>2.0</td>\n",
       "      <td>...</td>\n",
       "      <td>0</td>\n",
       "      <td>0</td>\n",
       "      <td>0</td>\n",
       "      <td>1</td>\n",
       "      <td>0</td>\n",
       "      <td>1</td>\n",
       "      <td>0</td>\n",
       "      <td>1</td>\n",
       "      <td>0</td>\n",
       "      <td>0</td>\n",
       "    </tr>\n",
       "    <tr>\n",
       "      <th>2</th>\n",
       "      <td>1.0</td>\n",
       "      <td>12</td>\n",
       "      <td>3.0</td>\n",
       "      <td>841</td>\n",
       "      <td>1.0</td>\n",
       "      <td>3.0</td>\n",
       "      <td>2.0</td>\n",
       "      <td>3.0</td>\n",
       "      <td>23</td>\n",
       "      <td>1.0</td>\n",
       "      <td>...</td>\n",
       "      <td>0</td>\n",
       "      <td>0</td>\n",
       "      <td>0</td>\n",
       "      <td>1</td>\n",
       "      <td>0</td>\n",
       "      <td>1</td>\n",
       "      <td>0</td>\n",
       "      <td>1</td>\n",
       "      <td>0</td>\n",
       "      <td>0</td>\n",
       "    </tr>\n",
       "    <tr>\n",
       "      <th>3</th>\n",
       "      <td>0.0</td>\n",
       "      <td>12</td>\n",
       "      <td>4.0</td>\n",
       "      <td>2122</td>\n",
       "      <td>0.0</td>\n",
       "      <td>2.0</td>\n",
       "      <td>1.0</td>\n",
       "      <td>1.0</td>\n",
       "      <td>39</td>\n",
       "      <td>1.0</td>\n",
       "      <td>...</td>\n",
       "      <td>0</td>\n",
       "      <td>0</td>\n",
       "      <td>0</td>\n",
       "      <td>1</td>\n",
       "      <td>0</td>\n",
       "      <td>1</td>\n",
       "      <td>0</td>\n",
       "      <td>1</td>\n",
       "      <td>0</td>\n",
       "      <td>0</td>\n",
       "    </tr>\n",
       "    <tr>\n",
       "      <th>4</th>\n",
       "      <td>0.0</td>\n",
       "      <td>12</td>\n",
       "      <td>4.0</td>\n",
       "      <td>2171</td>\n",
       "      <td>0.0</td>\n",
       "      <td>2.0</td>\n",
       "      <td>0.0</td>\n",
       "      <td>3.0</td>\n",
       "      <td>38</td>\n",
       "      <td>1.0</td>\n",
       "      <td>...</td>\n",
       "      <td>0</td>\n",
       "      <td>1</td>\n",
       "      <td>0</td>\n",
       "      <td>0</td>\n",
       "      <td>1</td>\n",
       "      <td>0</td>\n",
       "      <td>0</td>\n",
       "      <td>0</td>\n",
       "      <td>0</td>\n",
       "      <td>1</td>\n",
       "    </tr>\n",
       "    <tr>\n",
       "      <th>...</th>\n",
       "      <td>...</td>\n",
       "      <td>...</td>\n",
       "      <td>...</td>\n",
       "      <td>...</td>\n",
       "      <td>...</td>\n",
       "      <td>...</td>\n",
       "      <td>...</td>\n",
       "      <td>...</td>\n",
       "      <td>...</td>\n",
       "      <td>...</td>\n",
       "      <td>...</td>\n",
       "      <td>...</td>\n",
       "      <td>...</td>\n",
       "      <td>...</td>\n",
       "      <td>...</td>\n",
       "      <td>...</td>\n",
       "      <td>...</td>\n",
       "      <td>...</td>\n",
       "      <td>...</td>\n",
       "      <td>...</td>\n",
       "      <td>...</td>\n",
       "    </tr>\n",
       "    <tr>\n",
       "      <th>995</th>\n",
       "      <td>0.0</td>\n",
       "      <td>24</td>\n",
       "      <td>3.0</td>\n",
       "      <td>1987</td>\n",
       "      <td>0.0</td>\n",
       "      <td>2.0</td>\n",
       "      <td>2.0</td>\n",
       "      <td>3.0</td>\n",
       "      <td>21</td>\n",
       "      <td>1.0</td>\n",
       "      <td>...</td>\n",
       "      <td>0</td>\n",
       "      <td>0</td>\n",
       "      <td>0</td>\n",
       "      <td>1</td>\n",
       "      <td>0</td>\n",
       "      <td>1</td>\n",
       "      <td>0</td>\n",
       "      <td>1</td>\n",
       "      <td>0</td>\n",
       "      <td>0</td>\n",
       "    </tr>\n",
       "    <tr>\n",
       "      <th>996</th>\n",
       "      <td>0.0</td>\n",
       "      <td>24</td>\n",
       "      <td>3.0</td>\n",
       "      <td>2303</td>\n",
       "      <td>0.0</td>\n",
       "      <td>4.0</td>\n",
       "      <td>0.0</td>\n",
       "      <td>0.0</td>\n",
       "      <td>45</td>\n",
       "      <td>2.0</td>\n",
       "      <td>...</td>\n",
       "      <td>0</td>\n",
       "      <td>0</td>\n",
       "      <td>0</td>\n",
       "      <td>1</td>\n",
       "      <td>0</td>\n",
       "      <td>1</td>\n",
       "      <td>0</td>\n",
       "      <td>0</td>\n",
       "      <td>0</td>\n",
       "      <td>1</td>\n",
       "    </tr>\n",
       "    <tr>\n",
       "      <th>997</th>\n",
       "      <td>3.0</td>\n",
       "      <td>21</td>\n",
       "      <td>4.0</td>\n",
       "      <td>12680</td>\n",
       "      <td>4.0</td>\n",
       "      <td>4.0</td>\n",
       "      <td>0.0</td>\n",
       "      <td>3.0</td>\n",
       "      <td>30</td>\n",
       "      <td>3.0</td>\n",
       "      <td>...</td>\n",
       "      <td>0</td>\n",
       "      <td>0</td>\n",
       "      <td>1</td>\n",
       "      <td>0</td>\n",
       "      <td>0</td>\n",
       "      <td>1</td>\n",
       "      <td>0</td>\n",
       "      <td>0</td>\n",
       "      <td>1</td>\n",
       "      <td>0</td>\n",
       "    </tr>\n",
       "    <tr>\n",
       "      <th>998</th>\n",
       "      <td>1.0</td>\n",
       "      <td>12</td>\n",
       "      <td>3.0</td>\n",
       "      <td>6468</td>\n",
       "      <td>4.0</td>\n",
       "      <td>0.0</td>\n",
       "      <td>2.0</td>\n",
       "      <td>0.0</td>\n",
       "      <td>52</td>\n",
       "      <td>3.0</td>\n",
       "      <td>...</td>\n",
       "      <td>0</td>\n",
       "      <td>0</td>\n",
       "      <td>1</td>\n",
       "      <td>0</td>\n",
       "      <td>0</td>\n",
       "      <td>1</td>\n",
       "      <td>0</td>\n",
       "      <td>0</td>\n",
       "      <td>0</td>\n",
       "      <td>1</td>\n",
       "    </tr>\n",
       "    <tr>\n",
       "      <th>999</th>\n",
       "      <td>0.0</td>\n",
       "      <td>30</td>\n",
       "      <td>3.0</td>\n",
       "      <td>6350</td>\n",
       "      <td>4.0</td>\n",
       "      <td>4.0</td>\n",
       "      <td>0.0</td>\n",
       "      <td>3.0</td>\n",
       "      <td>31</td>\n",
       "      <td>2.0</td>\n",
       "      <td>...</td>\n",
       "      <td>0</td>\n",
       "      <td>1</td>\n",
       "      <td>0</td>\n",
       "      <td>0</td>\n",
       "      <td>0</td>\n",
       "      <td>1</td>\n",
       "      <td>0</td>\n",
       "      <td>0</td>\n",
       "      <td>0</td>\n",
       "      <td>1</td>\n",
       "    </tr>\n",
       "  </tbody>\n",
       "</table>\n",
       "<p>1000 rows × 41 columns</p>\n",
       "</div>"
      ],
      "text/plain": [
       "     status  duration  credit_history  amount  savings  employment_duration  \\\n",
       "0       0.0        18             4.0    1049      0.0                  1.0   \n",
       "1       0.0         9             4.0    2799      0.0                  2.0   \n",
       "2       1.0        12             3.0     841      1.0                  3.0   \n",
       "3       0.0        12             4.0    2122      0.0                  2.0   \n",
       "4       0.0        12             4.0    2171      0.0                  2.0   \n",
       "..      ...       ...             ...     ...      ...                  ...   \n",
       "995     0.0        24             3.0    1987      0.0                  2.0   \n",
       "996     0.0        24             3.0    2303      0.0                  4.0   \n",
       "997     3.0        21             4.0   12680      4.0                  4.0   \n",
       "998     1.0        12             3.0    6468      4.0                  0.0   \n",
       "999     0.0        30             3.0    6350      4.0                  4.0   \n",
       "\n",
       "     installment_rate  present_residence  age  job  ...  \\\n",
       "0                 0.0                3.0   21  2.0  ...   \n",
       "1                 2.0                1.0   36  2.0  ...   \n",
       "2                 2.0                3.0   23  1.0  ...   \n",
       "3                 1.0                1.0   39  1.0  ...   \n",
       "4                 0.0                3.0   38  1.0  ...   \n",
       "..                ...                ...  ...  ...  ...   \n",
       "995               2.0                3.0   21  1.0  ...   \n",
       "996               0.0                0.0   45  2.0  ...   \n",
       "997               0.0                3.0   30  3.0  ...   \n",
       "998               2.0                0.0   52  3.0  ...   \n",
       "999               0.0                3.0   31  2.0  ...   \n",
       "\n",
       "     property_building soc. savings agr./life insurance  \\\n",
       "0                                                    0    \n",
       "1                                                    0    \n",
       "2                                                    0    \n",
       "3                                                    0    \n",
       "4                                                    0    \n",
       "..                                                 ...    \n",
       "995                                                  0    \n",
       "996                                                  0    \n",
       "997                                                  0    \n",
       "998                                                  0    \n",
       "999                                                  0    \n",
       "\n",
       "     property_car or other  property_real estate  \\\n",
       "0                        1                     0   \n",
       "1                        0                     0   \n",
       "2                        0                     0   \n",
       "3                        0                     0   \n",
       "4                        1                     0   \n",
       "..                     ...                   ...   \n",
       "995                      0                     0   \n",
       "996                      0                     0   \n",
       "997                      0                     1   \n",
       "998                      0                     1   \n",
       "999                      1                     0   \n",
       "\n",
       "    property_unknown / no property  other_installment_plans_bank  \\\n",
       "0                                0                             0   \n",
       "1                                1                             0   \n",
       "2                                1                             0   \n",
       "3                                1                             0   \n",
       "4                                0                             1   \n",
       "..                             ...                           ...   \n",
       "995                              1                             0   \n",
       "996                              1                             0   \n",
       "997                              0                             0   \n",
       "998                              0                             0   \n",
       "999                              0                             0   \n",
       "\n",
       "     other_installment_plans_none  other_installment_plans_stores  \\\n",
       "0                               1                               0   \n",
       "1                               1                               0   \n",
       "2                               1                               0   \n",
       "3                               1                               0   \n",
       "4                               0                               0   \n",
       "..                            ...                             ...   \n",
       "995                             1                               0   \n",
       "996                             1                               0   \n",
       "997                             1                               0   \n",
       "998                             1                               0   \n",
       "999                             1                               0   \n",
       "\n",
       "     housing_for free  housing_own  housing_rent  \n",
       "0                   1            0             0  \n",
       "1                   1            0             0  \n",
       "2                   1            0             0  \n",
       "3                   1            0             0  \n",
       "4                   0            0             1  \n",
       "..                ...          ...           ...  \n",
       "995                 1            0             0  \n",
       "996                 0            0             1  \n",
       "997                 0            1             0  \n",
       "998                 0            0             1  \n",
       "999                 0            0             1  \n",
       "\n",
       "[1000 rows x 41 columns]"
      ]
     },
     "execution_count": 314,
     "metadata": {},
     "output_type": "execute_result"
    }
   ],
   "source": [
    "# Perform one-hot encoding\n",
    "df_encoded = pd.get_dummies(df, columns=oh)\n",
    "df_encoded"
   ]
  },
  {
   "cell_type": "code",
   "execution_count": 315,
   "id": "7e78d6e4",
   "metadata": {},
   "outputs": [
    {
     "data": {
      "text/plain": [
       "0      good\n",
       "1      good\n",
       "2      good\n",
       "3      good\n",
       "4      good\n",
       "       ... \n",
       "995     bad\n",
       "996     bad\n",
       "997     bad\n",
       "998     bad\n",
       "999     bad\n",
       "Name: credit_risk, Length: 1000, dtype: object"
      ]
     },
     "execution_count": 315,
     "metadata": {},
     "output_type": "execute_result"
    }
   ],
   "source": [
    "y=df_encoded['credit_risk']\n",
    "X=df_encoded.drop('credit_risk',axis=1)\n",
    "y"
   ]
  },
  {
   "cell_type": "code",
   "execution_count": 316,
   "id": "fc8068e4",
   "metadata": {},
   "outputs": [
    {
     "data": {
      "text/plain": [
       "0      1\n",
       "1      1\n",
       "2      1\n",
       "3      1\n",
       "4      1\n",
       "      ..\n",
       "995    0\n",
       "996    0\n",
       "997    0\n",
       "998    0\n",
       "999    0\n",
       "Length: 1000, dtype: int32"
      ]
     },
     "execution_count": 316,
     "metadata": {},
     "output_type": "execute_result"
    }
   ],
   "source": [
    "from sklearn.preprocessing import LabelEncoder\n",
    "encoder = LabelEncoder()\n",
    "# Fit and transform the selected column\n",
    "y=encoder.fit_transform(y)\n",
    "y=pd.Series(y)\n",
    "y"
   ]
  },
  {
   "cell_type": "code",
   "execution_count": 317,
   "id": "849d394a",
   "metadata": {},
   "outputs": [
    {
     "name": "stdout",
     "output_type": "stream",
     "text": [
      "Accuracy: 0.75\n"
     ]
    },
    {
     "name": "stderr",
     "output_type": "stream",
     "text": [
      "C:\\Users\\shiva\\anaconda3\\lib\\site-packages\\sklearn\\linear_model\\_logistic.py:763: ConvergenceWarning: lbfgs failed to converge (status=1):\n",
      "STOP: TOTAL NO. of ITERATIONS REACHED LIMIT.\n",
      "\n",
      "Increase the number of iterations (max_iter) or scale the data as shown in:\n",
      "    https://scikit-learn.org/stable/modules/preprocessing.html\n",
      "Please also refer to the documentation for alternative solver options:\n",
      "    https://scikit-learn.org/stable/modules/linear_model.html#logistic-regression\n",
      "  n_iter_i = _check_optimize_result(\n"
     ]
    }
   ],
   "source": [
    "from sklearn.linear_model import LogisticRegression\n",
    "from sklearn.model_selection import train_test_split\n",
    "from sklearn.metrics import accuracy_score\n",
    "\n",
    "# Split the data into train and test sets\n",
    "X_train, X_test, y_train, y_test = train_test_split(X, y, test_size=0.2, random_state=42)\n",
    "\n",
    "# Initialize the LogisticRegression model\n",
    "model1 = LogisticRegression()\n",
    "\n",
    "# Train the model\n",
    "model1.fit(X_train, y_train)\n",
    "\n",
    "# Predict on the test set\n",
    "y_pred = model1.predict(X_test)\n",
    "\n",
    "# Calculate accuracy\n",
    "accuracy = accuracy_score(y_test, y_pred)\n",
    "print('Accuracy:', accuracy)\n"
   ]
  },
  {
   "cell_type": "code",
   "execution_count": 318,
   "id": "474d90da",
   "metadata": {},
   "outputs": [
    {
     "name": "stdout",
     "output_type": "stream",
     "text": [
      "Accuracy: 0.705\n"
     ]
    }
   ],
   "source": [
    "from sklearn.svm import SVC\n",
    "# Initialize the SVC model\n",
    "model2 = SVC()\n",
    "\n",
    "# Train the model\n",
    "model2.fit(X_train, y_train)\n",
    "\n",
    "# Predict on the test set\n",
    "y_pred = model2.predict(X_test)\n",
    "\n",
    "# Calculate accuracy\n",
    "accuracy = accuracy_score(y_test, y_pred)\n",
    "print('Accuracy:', accuracy)\n"
   ]
  },
  {
   "cell_type": "code",
   "execution_count": 319,
   "id": "cec744ae",
   "metadata": {},
   "outputs": [
    {
     "name": "stdout",
     "output_type": "stream",
     "text": [
      "Naive Bayes Accuracy: 0.71\n"
     ]
    }
   ],
   "source": [
    "from sklearn.naive_bayes import GaussianNB\n",
    "# Initialize the Gaussian Naive Bayes model\n",
    "model3 = GaussianNB()\n",
    "\n",
    "# Train the model\n",
    "model3.fit(X_train, y_train)\n",
    "\n",
    "# Predict on the test set\n",
    "y_pred = model3.predict(X_test)\n",
    "\n",
    "# Calculate accuracy\n",
    "accuracy = accuracy_score(y_test, y_pred)\n",
    "print('Naive Bayes Accuracy:', accuracy)\n"
   ]
  },
  {
   "cell_type": "code",
   "execution_count": 320,
   "id": "985c1d37",
   "metadata": {},
   "outputs": [
    {
     "name": "stdout",
     "output_type": "stream",
     "text": [
      "KNN Accuracy: 0.65\n"
     ]
    }
   ],
   "source": [
    "from sklearn.neighbors import KNeighborsClassifier\n",
    "\n",
    "\n",
    "# Initialize the KNN model\n",
    "model4 = KNeighborsClassifier(n_neighbors=5)  # Specify the number of neighbors\n",
    "\n",
    "# Train the model\n",
    "model4.fit(X_train, y_train)\n",
    "\n",
    "# Predict on the test set\n",
    "y_pred = model4.predict(X_test)\n",
    "\n",
    "# Calculate accuracy\n",
    "accuracy = accuracy_score(y_test, y_pred)\n",
    "print('KNN Accuracy:', accuracy)\n"
   ]
  },
  {
   "cell_type": "code",
   "execution_count": 321,
   "id": "4c78646f",
   "metadata": {},
   "outputs": [
    {
     "name": "stdout",
     "output_type": "stream",
     "text": [
      "Decision Tree Accuracy: 0.705\n"
     ]
    }
   ],
   "source": [
    "from sklearn.tree import DecisionTreeClassifier\n",
    "# Initialize the Decision Tree model\n",
    "model5 = DecisionTreeClassifier()\n",
    "\n",
    "# Train the model\n",
    "model5.fit(X_train, y_train)\n",
    "\n",
    "# Predict on the test set\n",
    "y_pred = model5.predict(X_test)\n",
    "\n",
    "# Calculate accuracy\n",
    "accuracy = accuracy_score(y_test, y_pred)\n",
    "print('Decision Tree Accuracy:', accuracy)\n"
   ]
  },
  {
   "cell_type": "code",
   "execution_count": 322,
   "id": "5959b1b6",
   "metadata": {},
   "outputs": [
    {
     "name": "stdout",
     "output_type": "stream",
     "text": [
      "Voting Ensemble Accuracy: 0.76\n"
     ]
    },
    {
     "name": "stderr",
     "output_type": "stream",
     "text": [
      "C:\\Users\\shiva\\anaconda3\\lib\\site-packages\\sklearn\\linear_model\\_logistic.py:763: ConvergenceWarning: lbfgs failed to converge (status=1):\n",
      "STOP: TOTAL NO. of ITERATIONS REACHED LIMIT.\n",
      "\n",
      "Increase the number of iterations (max_iter) or scale the data as shown in:\n",
      "    https://scikit-learn.org/stable/modules/preprocessing.html\n",
      "Please also refer to the documentation for alternative solver options:\n",
      "    https://scikit-learn.org/stable/modules/linear_model.html#logistic-regression\n",
      "  n_iter_i = _check_optimize_result(\n"
     ]
    }
   ],
   "source": [
    "from sklearn.ensemble import VotingClassifier\n",
    "# Initialize the individual models\n",
    "# model1 = LogisticRegression()\n",
    "# model2 = GaussianNB()\n",
    "# model3 = DecisionTreeClassifier()\n",
    "\n",
    "# Initialize the VotingClassifier\n",
    "voting_model = VotingClassifier(estimators=[('lr', model1), ('svm', model2), ('dt', model5)], voting='hard')\n",
    "\n",
    "# Train the VotingClassifier\n",
    "voting_model.fit(X_train, y_train)\n",
    "\n",
    "# Predict on the test set\n",
    "y_pred = voting_model.predict(X_test)\n",
    "\n",
    "# Calculate accuracy\n",
    "accuracy = accuracy_score(y_test, y_pred)\n",
    "print('Voting Ensemble Accuracy:', accuracy)\n"
   ]
  }
 ],
 "metadata": {
  "kernelspec": {
   "display_name": "Python 3",
   "language": "python",
   "name": "python3"
  },
  "language_info": {
   "codemirror_mode": {
    "name": "ipython",
    "version": 3
   },
   "file_extension": ".py",
   "mimetype": "text/x-python",
   "name": "python",
   "nbconvert_exporter": "python",
   "pygments_lexer": "ipython3",
   "version": "3.8.8"
  }
 },
 "nbformat": 4,
 "nbformat_minor": 5
}
